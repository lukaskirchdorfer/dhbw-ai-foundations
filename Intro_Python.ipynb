{
  "nbformat": 4,
  "nbformat_minor": 0,
  "metadata": {
    "colab": {
      "provenance": [],
      "authorship_tag": "ABX9TyP6ANxrfcQf/eagcEKzgYbq",
      "include_colab_link": true
    },
    "kernelspec": {
      "name": "python3",
      "display_name": "Python 3"
    },
    "language_info": {
      "name": "python"
    }
  },
  "cells": [
    {
      "cell_type": "markdown",
      "metadata": {
        "id": "view-in-github",
        "colab_type": "text"
      },
      "source": [
        "<a href=\"https://colab.research.google.com/github/lukaskirchdorfer/dhbw-ai-foundations/blob/main/Intro_Python.ipynb\" target=\"_parent\"><img src=\"https://colab.research.google.com/assets/colab-badge.svg\" alt=\"Open In Colab\"/></a>"
      ]
    },
    {
      "cell_type": "markdown",
      "source": [
        "# Python Basics\n",
        "\n",
        "Welcome to the Python basics tutorial! This notebook will cover the fundamental concepts needed to start writing Python code."
      ],
      "metadata": {
        "id": "xmI_-ewCAhpj"
      }
    },
    {
      "cell_type": "markdown",
      "source": [
        "## 1. Hello, Python!\n",
        "\n",
        "# Let's start with a simple print statement, which will display text in Python."
      ],
      "metadata": {
        "id": "VN-Yq9TxA7uF"
      }
    },
    {
      "cell_type": "code",
      "source": [
        "print(\"Hello, Python!\")"
      ],
      "metadata": {
        "colab": {
          "base_uri": "https://localhost:8080/"
        },
        "id": "yjKHX7cFAr4r",
        "outputId": "a4e7b8f4-bb6a-4e21-a653-c95ecc671933"
      },
      "execution_count": null,
      "outputs": [
        {
          "output_type": "stream",
          "name": "stdout",
          "text": [
            "Hello, Python!\n"
          ]
        }
      ]
    },
    {
      "cell_type": "markdown",
      "source": [
        "## 2. Variables and Data Types\n",
        "Variables are used to store data in Python. Python supports different types of variables, such as integers, floats, strings, and booleans."
      ],
      "metadata": {
        "id": "SXzcFVh8Azvz"
      }
    },
    {
      "cell_type": "code",
      "source": [
        "# Integer\n",
        "x = 10\n",
        "print(x)\n",
        "\n",
        "# Float\n",
        "y = 3.14\n",
        "print(y)\n",
        "\n",
        "# String\n",
        "name = \"Alice\"\n",
        "print(name)\n",
        "\n",
        "# Boolean\n",
        "is_sunny = True\n",
        "print(is_sunny)"
      ],
      "metadata": {
        "colab": {
          "base_uri": "https://localhost:8080/"
        },
        "id": "wyMder3PAup9",
        "outputId": "307388f5-a5bd-4d7d-f370-ba05a20e960e"
      },
      "execution_count": null,
      "outputs": [
        {
          "output_type": "stream",
          "name": "stdout",
          "text": [
            "10\n",
            "3.14\n",
            "Alice\n",
            "True\n"
          ]
        }
      ]
    },
    {
      "cell_type": "markdown",
      "source": [
        "## 3. Basic Arithmetic\n",
        "You can use Python for basic arithmetic operations:"
      ],
      "metadata": {
        "id": "FWj5H-CCBGTX"
      }
    },
    {
      "cell_type": "code",
      "source": [
        "# Addition\n",
        "a = 5 + 3\n",
        "print(a)\n",
        "\n",
        "# Subtraction\n",
        "b = 10 - 4\n",
        "print(b)\n",
        "\n",
        "# Multiplication\n",
        "c = 2 * 6\n",
        "print(c)\n",
        "\n",
        "# Division\n",
        "d = 8 / 2\n",
        "print(d)"
      ],
      "metadata": {
        "colab": {
          "base_uri": "https://localhost:8080/"
        },
        "id": "zyReXQdtBDQg",
        "outputId": "40711b7f-32df-4471-9ba9-95349438e363"
      },
      "execution_count": null,
      "outputs": [
        {
          "output_type": "stream",
          "name": "stdout",
          "text": [
            "8\n",
            "6\n",
            "12\n",
            "4.0\n"
          ]
        }
      ]
    },
    {
      "cell_type": "markdown",
      "source": [
        "## 4. Conditional Statements\n",
        "Conditional statements allow you to run code based on specific conditions. The most common conditional statements are if, elif, and else."
      ],
      "metadata": {
        "id": "HXe2S8G_BNbu"
      }
    },
    {
      "cell_type": "code",
      "source": [
        "x = 10\n",
        "\n",
        "if x > 5:\n",
        "    print(\"x is greater than 5\")\n",
        "elif x == 5:\n",
        "    print(\"x is equal to 5\")\n",
        "else:\n",
        "    print(\"x is less than 5\")"
      ],
      "metadata": {
        "colab": {
          "base_uri": "https://localhost:8080/"
        },
        "id": "9hWFkatmBK5D",
        "outputId": "ac62243a-3564-4147-8634-877166e4da7b"
      },
      "execution_count": null,
      "outputs": [
        {
          "output_type": "stream",
          "name": "stdout",
          "text": [
            "x is greater than 5\n"
          ]
        }
      ]
    },
    {
      "cell_type": "markdown",
      "source": [
        "## 5. Loops\n",
        "Loops allow you to execute a block of code multiple times. Python supports two types of loops: for loops and while loops."
      ],
      "metadata": {
        "id": "2s4sQz-TBV5x"
      }
    },
    {
      "cell_type": "code",
      "source": [
        "for i in range(5):\n",
        "    print(i)"
      ],
      "metadata": {
        "colab": {
          "base_uri": "https://localhost:8080/"
        },
        "id": "wpJ5CwwhBSf7",
        "outputId": "eebe320f-fb8e-4419-b924-a563c44f00aa"
      },
      "execution_count": null,
      "outputs": [
        {
          "output_type": "stream",
          "name": "stdout",
          "text": [
            "0\n",
            "1\n",
            "2\n",
            "3\n",
            "4\n"
          ]
        }
      ]
    },
    {
      "cell_type": "code",
      "source": [
        "count = 0\n",
        "while count < 5:\n",
        "    print(count)\n",
        "    count += 1"
      ],
      "metadata": {
        "colab": {
          "base_uri": "https://localhost:8080/"
        },
        "id": "I-128ScoBa9s",
        "outputId": "281b8887-950a-42ab-b908-3fdf80c6f258"
      },
      "execution_count": null,
      "outputs": [
        {
          "output_type": "stream",
          "name": "stdout",
          "text": [
            "0\n",
            "1\n",
            "2\n",
            "3\n",
            "4\n"
          ]
        }
      ]
    },
    {
      "cell_type": "markdown",
      "source": [
        "## 6. Functions\n",
        "Functions are blocks of reusable code that perform a specific task. You can define your own functions using the def keyword."
      ],
      "metadata": {
        "id": "E89XgAoqBfyX"
      }
    },
    {
      "cell_type": "code",
      "source": [
        "def greet(name):\n",
        "    print(\"Hello, \" + name + \"!\")\n",
        "\n",
        "# Call the function\n",
        "greet(name=\"Alice\")"
      ],
      "metadata": {
        "colab": {
          "base_uri": "https://localhost:8080/"
        },
        "id": "hLB6xGAkBdK2",
        "outputId": "325f1ab6-61b5-4271-e91d-7af6fd4653a4"
      },
      "execution_count": null,
      "outputs": [
        {
          "output_type": "stream",
          "name": "stdout",
          "text": [
            "Hello, Alice!\n"
          ]
        }
      ]
    },
    {
      "cell_type": "markdown",
      "source": [
        "# Exercises"
      ],
      "metadata": {
        "id": "nTMAqAqbBxFX"
      }
    },
    {
      "cell_type": "markdown",
      "source": [
        "## Exercise 1: Variables\n",
        "- Create a variable called age and assign it a value.\n",
        "- Print the value of age."
      ],
      "metadata": {
        "id": "_8cgpsCAB228"
      }
    },
    {
      "cell_type": "code",
      "source": [
        "# Your code here\n",
        "\n"
      ],
      "metadata": {
        "id": "kLSGAfyKBle3"
      },
      "execution_count": null,
      "outputs": []
    },
    {
      "cell_type": "markdown",
      "source": [
        "## Exercise 2: Conditionals\n",
        "- Write a Python program that checks if a number is even or odd."
      ],
      "metadata": {
        "id": "DQ0LKNXIB97m"
      }
    },
    {
      "cell_type": "code",
      "source": [
        "# Your code here\n",
        "\n"
      ],
      "metadata": {
        "id": "cnQItxW8CGqD"
      },
      "execution_count": null,
      "outputs": []
    },
    {
      "cell_type": "markdown",
      "source": [
        "## Exercise 3: Functions\n",
        "- Write a function that takes two numbers as input and returns their sum."
      ],
      "metadata": {
        "id": "LvPL_m8gCMy6"
      }
    },
    {
      "cell_type": "code",
      "source": [
        "# Your code here\n",
        "\n"
      ],
      "metadata": {
        "id": "LVaSFVxGCP2x"
      },
      "execution_count": null,
      "outputs": []
    }
  ]
}