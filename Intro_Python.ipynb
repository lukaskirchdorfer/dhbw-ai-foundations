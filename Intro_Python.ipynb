{
  "nbformat": 4,
  "nbformat_minor": 0,
  "metadata": {
    "colab": {
      "provenance": [],
      "authorship_tag": "ABX9TyPmYFK2hHu4pgnMgbfjf2Go",
      "include_colab_link": true
    },
    "kernelspec": {
      "name": "python3",
      "display_name": "Python 3"
    },
    "language_info": {
      "name": "python"
    }
  },
  "cells": [
    {
      "cell_type": "markdown",
      "metadata": {
        "id": "view-in-github",
        "colab_type": "text"
      },
      "source": [
        "<a href=\"https://colab.research.google.com/github/lukaskirchdorfer/dhbw-ai-foundations/blob/main/Intro_Python.ipynb\" target=\"_parent\"><img src=\"https://colab.research.google.com/assets/colab-badge.svg\" alt=\"Open In Colab\"/></a>"
      ]
    },
    {
      "cell_type": "markdown",
      "source": [
        "# Python Basics\n",
        "\n",
        "Welcome to the Python basics tutorial! This notebook will cover the fundamental concepts needed to start writing Python code."
      ],
      "metadata": {
        "id": "xmI_-ewCAhpj"
      }
    },
    {
      "cell_type": "markdown",
      "source": [
        "## 1. Hello, Python!\n",
        "\n",
        "# Let's start with a simple print statement, which will display text in Python."
      ],
      "metadata": {
        "id": "VN-Yq9TxA7uF"
      }
    },
    {
      "cell_type": "code",
      "source": [
        "print(\"Hello, Python!\")"
      ],
      "metadata": {
        "colab": {
          "base_uri": "https://localhost:8080/"
        },
        "id": "yjKHX7cFAr4r",
        "outputId": "a4e7b8f4-bb6a-4e21-a653-c95ecc671933"
      },
      "execution_count": null,
      "outputs": [
        {
          "output_type": "stream",
          "name": "stdout",
          "text": [
            "Hello, Python!\n"
          ]
        }
      ]
    },
    {
      "cell_type": "markdown",
      "source": [
        "## 2. Variables and Data Types\n",
        "Variables are used to store data in Python. Python supports different types of variables, such as integers, floats, strings, and booleans."
      ],
      "metadata": {
        "id": "SXzcFVh8Azvz"
      }
    },
    {
      "cell_type": "code",
      "source": [
        "# Integer\n",
        "x = 10\n",
        "print(x)\n",
        "\n",
        "# Float\n",
        "y = 3.14\n",
        "print(y)\n",
        "\n",
        "# String\n",
        "name = \"Alice\"\n",
        "print(name)\n",
        "\n",
        "# Boolean\n",
        "is_sunny = True\n",
        "print(is_sunny)"
      ],
      "metadata": {
        "colab": {
          "base_uri": "https://localhost:8080/"
        },
        "id": "wyMder3PAup9",
        "outputId": "307388f5-a5bd-4d7d-f370-ba05a20e960e"
      },
      "execution_count": null,
      "outputs": [
        {
          "output_type": "stream",
          "name": "stdout",
          "text": [
            "10\n",
            "3.14\n",
            "Alice\n",
            "True\n"
          ]
        }
      ]
    },
    {
      "cell_type": "markdown",
      "source": [
        "## 3. Basic Arithmetic\n",
        "You can use Python for basic arithmetic operations:"
      ],
      "metadata": {
        "id": "FWj5H-CCBGTX"
      }
    },
    {
      "cell_type": "code",
      "source": [
        "# Addition\n",
        "a = 5 + 3\n",
        "print(a)\n",
        "\n",
        "# Subtraction\n",
        "b = 10 - 4\n",
        "print(b)\n",
        "\n",
        "# Multiplication\n",
        "c = 2 * 6\n",
        "print(c)\n",
        "\n",
        "# Division\n",
        "d = 8 / 2\n",
        "print(d)"
      ],
      "metadata": {
        "colab": {
          "base_uri": "https://localhost:8080/"
        },
        "id": "zyReXQdtBDQg",
        "outputId": "40711b7f-32df-4471-9ba9-95349438e363"
      },
      "execution_count": null,
      "outputs": [
        {
          "output_type": "stream",
          "name": "stdout",
          "text": [
            "8\n",
            "6\n",
            "12\n",
            "4.0\n"
          ]
        }
      ]
    },
    {
      "cell_type": "markdown",
      "source": [
        "## 4. Conditional Statements\n",
        "Conditional statements allow you to run code based on specific conditions. The most common conditional statements are if, elif, and else."
      ],
      "metadata": {
        "id": "HXe2S8G_BNbu"
      }
    },
    {
      "cell_type": "code",
      "source": [
        "x = 10\n",
        "\n",
        "if x > 5:\n",
        "    print(\"x is greater than 5\")\n",
        "elif x == 5:\n",
        "    print(\"x is equal to 5\")\n",
        "else:\n",
        "    print(\"x is less than 5\")"
      ],
      "metadata": {
        "colab": {
          "base_uri": "https://localhost:8080/"
        },
        "id": "9hWFkatmBK5D",
        "outputId": "ac62243a-3564-4147-8634-877166e4da7b"
      },
      "execution_count": null,
      "outputs": [
        {
          "output_type": "stream",
          "name": "stdout",
          "text": [
            "x is greater than 5\n"
          ]
        }
      ]
    },
    {
      "cell_type": "markdown",
      "source": [
        "## 5. Loops\n",
        "Loops allow you to execute a block of code multiple times. Python supports two types of loops: for loops and while loops."
      ],
      "metadata": {
        "id": "2s4sQz-TBV5x"
      }
    },
    {
      "cell_type": "code",
      "source": [
        "for i in range(5):\n",
        "    print(i)"
      ],
      "metadata": {
        "colab": {
          "base_uri": "https://localhost:8080/"
        },
        "id": "wpJ5CwwhBSf7",
        "outputId": "eebe320f-fb8e-4419-b924-a563c44f00aa"
      },
      "execution_count": null,
      "outputs": [
        {
          "output_type": "stream",
          "name": "stdout",
          "text": [
            "0\n",
            "1\n",
            "2\n",
            "3\n",
            "4\n"
          ]
        }
      ]
    },
    {
      "cell_type": "code",
      "source": [
        "count = 0\n",
        "while count < 5:\n",
        "    print(count)\n",
        "    count += 1"
      ],
      "metadata": {
        "colab": {
          "base_uri": "https://localhost:8080/"
        },
        "id": "I-128ScoBa9s",
        "outputId": "281b8887-950a-42ab-b908-3fdf80c6f258"
      },
      "execution_count": null,
      "outputs": [
        {
          "output_type": "stream",
          "name": "stdout",
          "text": [
            "0\n",
            "1\n",
            "2\n",
            "3\n",
            "4\n"
          ]
        }
      ]
    },
    {
      "cell_type": "markdown",
      "source": [
        "## 6. Functions\n",
        "Functions are blocks of reusable code that perform a specific task. You can define your own functions using the def keyword."
      ],
      "metadata": {
        "id": "E89XgAoqBfyX"
      }
    },
    {
      "cell_type": "code",
      "source": [
        "def greet(name):\n",
        "    print(\"Hello, \" + name + \"!\")\n",
        "\n",
        "# Call the function\n",
        "greet(name=\"Alice\")"
      ],
      "metadata": {
        "colab": {
          "base_uri": "https://localhost:8080/"
        },
        "id": "hLB6xGAkBdK2",
        "outputId": "325f1ab6-61b5-4271-e91d-7af6fd4653a4"
      },
      "execution_count": null,
      "outputs": [
        {
          "output_type": "stream",
          "name": "stdout",
          "text": [
            "Hello, Alice!\n"
          ]
        }
      ]
    },
    {
      "cell_type": "markdown",
      "source": [
        "## 7. Lists"
      ],
      "metadata": {
        "id": "U1W4I_z9IuwJ"
      }
    },
    {
      "cell_type": "code",
      "source": [
        "# A list is a collection of items in a particular order.\n",
        "# Lists are mutable, meaning you can change their contents after they are created.\n",
        "\n",
        "# Creating a List\n",
        "fruits = [\"apple\", \"banana\", \"cherry\", \"orange\"]\n",
        "print(fruits)"
      ],
      "metadata": {
        "id": "qvFxyECwJXvJ",
        "outputId": "df7ee07e-9f8c-4a97-9a3e-58b420e8db2c",
        "colab": {
          "base_uri": "https://localhost:8080/"
        }
      },
      "execution_count": null,
      "outputs": [
        {
          "output_type": "stream",
          "name": "stdout",
          "text": [
            "['apple', 'banana', 'cherry', 'orange']\n"
          ]
        }
      ]
    },
    {
      "cell_type": "code",
      "source": [
        "# Accessing Items in a List (using index)\n",
        "print(fruits[0])\n",
        "print(fruits[2])"
      ],
      "metadata": {
        "id": "ziIluGe2JYkT",
        "outputId": "96405593-75f2-44d8-91f5-407e7ec30be8",
        "colab": {
          "base_uri": "https://localhost:8080/"
        }
      },
      "execution_count": null,
      "outputs": [
        {
          "output_type": "stream",
          "name": "stdout",
          "text": [
            "apple\n",
            "cherry\n"
          ]
        }
      ]
    },
    {
      "cell_type": "code",
      "source": [
        "# Negative Indexing (access items from the end)\n",
        "print(fruits[-1])"
      ],
      "metadata": {
        "id": "s8UF3eSGJb9l",
        "outputId": "3e4e03d9-a4b5-47ad-fae1-ee6974360153",
        "colab": {
          "base_uri": "https://localhost:8080/"
        }
      },
      "execution_count": null,
      "outputs": [
        {
          "output_type": "stream",
          "name": "stdout",
          "text": [
            "orange\n"
          ]
        }
      ]
    },
    {
      "cell_type": "code",
      "source": [
        "# Modifying Items in a List\n",
        "fruits[1] = \"blueberry\"\n",
        "print(fruits)"
      ],
      "metadata": {
        "id": "e34al8H9Jdbk",
        "outputId": "c292ac31-d14b-4f5c-f141-5915562e5bbe",
        "colab": {
          "base_uri": "https://localhost:8080/"
        }
      },
      "execution_count": null,
      "outputs": [
        {
          "output_type": "stream",
          "name": "stdout",
          "text": [
            "['apple', 'blueberry', 'cherry', 'orange']\n"
          ]
        }
      ]
    },
    {
      "cell_type": "code",
      "source": [
        "# Adding Items to a List\n",
        "# Append an item to the end\n",
        "fruits.append(\"grape\")\n",
        "print(fruits)"
      ],
      "metadata": {
        "id": "xydM-DiiJfbc",
        "outputId": "39866718-b2a9-462b-e232-ce817ef43ad6",
        "colab": {
          "base_uri": "https://localhost:8080/"
        }
      },
      "execution_count": null,
      "outputs": [
        {
          "output_type": "stream",
          "name": "stdout",
          "text": [
            "['apple', 'blueberry', 'cherry', 'orange', 'grape']\n"
          ]
        }
      ]
    },
    {
      "cell_type": "code",
      "source": [
        "# Inserting an item at a specific position\n",
        "fruits.insert(1, \"kiwi\")\n",
        "print(fruits)"
      ],
      "metadata": {
        "id": "njD2vMxBJg-5",
        "outputId": "665a73bb-fae9-4aa6-ca01-4ba97ce73fe5",
        "colab": {
          "base_uri": "https://localhost:8080/"
        }
      },
      "execution_count": null,
      "outputs": [
        {
          "output_type": "stream",
          "name": "stdout",
          "text": [
            "['apple', 'kiwi', 'blueberry', 'cherry', 'orange', 'grape']\n"
          ]
        }
      ]
    },
    {
      "cell_type": "code",
      "source": [
        "# Removing Items from a List\n",
        "# Remove by value\n",
        "fruits.remove(\"cherry\")\n",
        "print(fruits)"
      ],
      "metadata": {
        "id": "QjpMo6jdJiUL",
        "outputId": "b8563541-250f-402c-9b04-182d1c569f68",
        "colab": {
          "base_uri": "https://localhost:8080/"
        }
      },
      "execution_count": null,
      "outputs": [
        {
          "output_type": "stream",
          "name": "stdout",
          "text": [
            "['apple', 'kiwi', 'blueberry', 'orange', 'grape']\n"
          ]
        }
      ]
    },
    {
      "cell_type": "code",
      "source": [
        "# Remove the last item using pop()\n",
        "popped_fruit = fruits.pop()\n",
        "print(fruits)\n",
        "print(f\"Popped fruit: {popped_fruit}\")"
      ],
      "metadata": {
        "id": "-pmKWP53JlhY",
        "outputId": "cdb55e6a-f384-47ea-c300-7eb889d6e2b7",
        "colab": {
          "base_uri": "https://localhost:8080/"
        }
      },
      "execution_count": null,
      "outputs": [
        {
          "output_type": "stream",
          "name": "stdout",
          "text": [
            "['apple', 'kiwi', 'blueberry', 'orange']\n",
            "Popped fruit: grape\n"
          ]
        }
      ]
    },
    {
      "cell_type": "code",
      "source": [
        "# Remove an item at a specific index using pop()\n",
        "popped_fruit = fruits.pop(1)\n",
        "print(fruits)\n",
        "print(f\"Popped fruit: {popped_fruit}\")"
      ],
      "metadata": {
        "id": "01DtkHulJnDj",
        "outputId": "62cbd192-5f3c-4faf-9ebd-96e070e32d5f",
        "colab": {
          "base_uri": "https://localhost:8080/"
        }
      },
      "execution_count": null,
      "outputs": [
        {
          "output_type": "stream",
          "name": "stdout",
          "text": [
            "['apple', 'blueberry', 'orange']\n",
            "Popped fruit: kiwi\n"
          ]
        }
      ]
    },
    {
      "cell_type": "code",
      "source": [
        "# List Length\n",
        "print(f\"List Length: {len(fruits)}\")"
      ],
      "metadata": {
        "id": "bwVD7K2aJobY",
        "outputId": "24679efd-426e-4adc-85f9-427fb6451d6b",
        "colab": {
          "base_uri": "https://localhost:8080/"
        }
      },
      "execution_count": null,
      "outputs": [
        {
          "output_type": "stream",
          "name": "stdout",
          "text": [
            "List Length: 3\n"
          ]
        }
      ]
    },
    {
      "cell_type": "code",
      "source": [
        "# Looping Through a List\n",
        "print(\"Fruits in the list:\")\n",
        "for fruit in fruits:\n",
        "    print(fruit)"
      ],
      "metadata": {
        "id": "vATAbB4hJpxX",
        "outputId": "dccb6a10-9013-4824-e2fc-76047f05a2ff",
        "colab": {
          "base_uri": "https://localhost:8080/"
        }
      },
      "execution_count": null,
      "outputs": [
        {
          "output_type": "stream",
          "name": "stdout",
          "text": [
            "Fruits in the list:\n",
            "apple\n",
            "blueberry\n",
            "orange\n"
          ]
        }
      ]
    },
    {
      "cell_type": "code",
      "source": [
        "# Slicing a List (selecting a portion of the list)\n",
        "print(fruits[1:3])"
      ],
      "metadata": {
        "id": "DGFMt6rqJsAb",
        "outputId": "ed781bc5-d7c1-4ebe-df0c-6a28c1370185",
        "colab": {
          "base_uri": "https://localhost:8080/"
        }
      },
      "execution_count": null,
      "outputs": [
        {
          "output_type": "stream",
          "name": "stdout",
          "text": [
            "['blueberry', 'orange']\n"
          ]
        }
      ]
    },
    {
      "cell_type": "markdown",
      "source": [
        "# Exercises"
      ],
      "metadata": {
        "id": "nTMAqAqbBxFX"
      }
    },
    {
      "cell_type": "markdown",
      "source": [
        "## Exercise 1: Variables\n",
        "- Create a variable called age and assign it a value.\n",
        "- Print the value of age."
      ],
      "metadata": {
        "id": "_8cgpsCAB228"
      }
    },
    {
      "cell_type": "code",
      "source": [
        "# Your code here\n",
        "\n"
      ],
      "metadata": {
        "id": "kLSGAfyKBle3"
      },
      "execution_count": null,
      "outputs": []
    },
    {
      "cell_type": "markdown",
      "source": [
        "## Exercise 2: Conditionals\n",
        "- Write a Python program that checks if a number is even or odd."
      ],
      "metadata": {
        "id": "DQ0LKNXIB97m"
      }
    },
    {
      "cell_type": "code",
      "source": [
        "# Your code here\n",
        "\n"
      ],
      "metadata": {
        "id": "cnQItxW8CGqD"
      },
      "execution_count": null,
      "outputs": []
    },
    {
      "cell_type": "markdown",
      "source": [
        "## Exercise 3: Functions\n",
        "- Write a function that takes two numbers as input and returns their sum."
      ],
      "metadata": {
        "id": "LvPL_m8gCMy6"
      }
    },
    {
      "cell_type": "code",
      "source": [
        "# Your code here\n",
        "\n"
      ],
      "metadata": {
        "id": "LVaSFVxGCP2x"
      },
      "execution_count": null,
      "outputs": []
    },
    {
      "cell_type": "markdown",
      "source": [
        "## Some more exercises"
      ],
      "metadata": {
        "id": "U8yMxh0IHmR2"
      }
    },
    {
      "cell_type": "markdown",
      "source": [
        "- Write a function that returns the maximum of 3 integers"
      ],
      "metadata": {
        "id": "9R00YCIfHq-N"
      }
    },
    {
      "cell_type": "code",
      "source": [
        "# Your code here\n"
      ],
      "metadata": {
        "id": "5F3hxqjcHpn6"
      },
      "execution_count": null,
      "outputs": []
    },
    {
      "cell_type": "markdown",
      "source": [
        "- Count number of vowels in a String"
      ],
      "metadata": {
        "id": "kwRD98OJHwum"
      }
    },
    {
      "cell_type": "code",
      "source": [
        "# Your code here\n"
      ],
      "metadata": {
        "id": "G7IP7j4dIWHe"
      },
      "execution_count": null,
      "outputs": []
    },
    {
      "cell_type": "markdown",
      "source": [
        "You are given a list of numbers. Your task is to perform the following operations:\n",
        "\n",
        "- Sum of Even Numbers: Write a function that takes the list as input and returns the sum of all the even numbers in the list.\n",
        "- Remove Duplicates: Write a function that removes any duplicate values from the list.\n",
        "- Sort the List: Write a function that sorts the list in ascending order.\n",
        "- Find Maximum and Minimum Values: Write a function that finds and returns both the maximum and minimum values in the list.\n",
        "- Reverse the List: Write a function that reverses the list."
      ],
      "metadata": {
        "id": "IZsEOg7UKLX8"
      }
    },
    {
      "cell_type": "code",
      "source": [
        "# Your code here\n"
      ],
      "metadata": {
        "id": "WMImIjAoKlqe"
      },
      "execution_count": null,
      "outputs": []
    },
    {
      "cell_type": "code",
      "source": [
        "# Your code here\n"
      ],
      "metadata": {
        "id": "zx-Zv0QDKnJP"
      },
      "execution_count": null,
      "outputs": []
    }
  ]
}